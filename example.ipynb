{
 "cells": [
  {
   "cell_type": "markdown",
   "metadata": {},
   "source": [
    "#### Installation"
   ]
  },
  {
   "cell_type": "code",
   "execution_count": 2,
   "metadata": {},
   "outputs": [],
   "source": [
    "%pip install -r requirements.txt\n",
    "%pip install -e ."
   ]
  },
  {
   "cell_type": "markdown",
   "metadata": {},
   "source": [
    "#### Example: Single-end"
   ]
  },
  {
   "cell_type": "code",
   "execution_count": 2,
   "metadata": {},
   "outputs": [
    {
     "name": "stderr",
     "output_type": "stream",
     "text": [
      "Reading Index file...: 2it [00:00, 1962.25it/s]\n",
      "Reading raw data...: 7it [00:00, 6957.38it/s]\n",
      "Matching Index...: 100%|██████████| 1/1 [00:00<00:00,  3.97it/s]\n",
      "Sample_ID\tCounts\n",
      "sample_1\t2\n",
      "sample_2\t2\n",
      "Undetermined\t3\n",
      "Determined rate: 57.14%\n"
     ]
    }
   ],
   "source": [
    "from demux import SingleEndDemux \n",
    "\n",
    "demux = SingleEndDemux(\n",
    "    index_path = \"./example/single_end/index.txt\",\n",
    "    raw_path = \"./example/single_end/raw_R1.fastq.gz\",\n",
    "    save_dir = \"./example/single_end\",\n",
    "    pr = \"GTCGGTAAAACTCGTGCCAGC\",\n",
    "    allow_mismatch = 0,\n",
    "    threads = 1,\n",
    "    read_direction = \"forward\",\n",
    "    dry = True\n",
    ")"
   ]
  },
  {
   "cell_type": "markdown",
   "metadata": {},
   "source": [
    "#### Example: Paired-end"
   ]
  },
  {
   "cell_type": "code",
   "execution_count": 1,
   "metadata": {},
   "outputs": [
    {
     "name": "stderr",
     "output_type": "stream",
     "text": [
      "Reading Index file: 2it [00:00, 2000.62it/s]\n",
      "Reading raw data...: 7it [00:00, 7012.21it/s]\n",
      "Assigning match tasks...: 100%|██████████| 1/1 [00:00<00:00, 166.69it/s]\n",
      "Matching Index...: 100%|██████████| 1/1 [00:00<00:00,  3.80it/s]\n",
      "Reading raw data...: 7it [00:00, 6995.50it/s]\n",
      "Assigning match tasks...: 100%|██████████| 1/1 [00:00<00:00, 285.40it/s]\n",
      "Matching Index...: 100%|██████████| 1/1 [00:00<00:00,  3.96it/s]\n",
      "Searching Forward & Reverse common matches...: 100%|██████████| 2/2 [00:00<?, ?it/s]\n",
      "Searching Forward unmatches...: 100%|██████████| 2/2 [00:00<?, ?it/s]\n",
      "Searching Reverse unmatches...: 100%|██████████| 2/2 [00:00<?, ?it/s]\n",
      "Searching Forward & Reverse common matches...: 100%|██████████| 2/2 [00:00<?, ?it/s]\n",
      "Searching Forward unmatches...: 100%|██████████| 2/2 [00:00<?, ?it/s]\n",
      "Searching Reverse unmatches...: 100%|██████████| 2/2 [00:00<?, ?it/s]\n",
      "Generating report...: 100%|██████████| 2/2 [00:00<00:00, 1999.67it/s]\n",
      "Sample_ID\tReads\tMatched_Reads\tMatched_Rate\n",
      "sample_1\t4\t3\t75.00%\n",
      "sample_2\t4\t3\t75.00%\n",
      "Total_Unmatched\tReads:2\tRate:25.00%\n",
      "Total_Undetermined\tReads:0\tRate:0.00%\n"
     ]
    }
   ],
   "source": [
    "from demux import PairedEndDemux\n",
    "\n",
    "demux = PairedEndDemux(\n",
    "    index_path = \"./example/paired_end/index.txt\",\n",
    "    for_raw_path = \"./example/paired_end/raw_R1.fastq.gz\",\n",
    "    rev_raw_path = \"./example/paired_end/raw_R2.fastq.gz\",\n",
    "    save_dir = \"./example/paired_end/\",\n",
    "    pr_5 = \"GTCGGTAAAACTCGTGCCAGC\",\n",
    "    pr_3 = \"CATAGTGGGGTATCTAATCCCAGTTTG\",\n",
    "    allow_mismatch = 0,\n",
    "    threads = 1,\n",
    "    dry = True\n",
    ")"
   ]
  }
 ],
 "metadata": {
  "kernelspec": {
   "display_name": "base",
   "language": "python",
   "name": "python3"
  },
  "language_info": {
   "codemirror_mode": {
    "name": "ipython",
    "version": 3
   },
   "file_extension": ".py",
   "mimetype": "text/x-python",
   "name": "python",
   "nbconvert_exporter": "python",
   "pygments_lexer": "ipython3",
   "version": "3.12.3"
  }
 },
 "nbformat": 4,
 "nbformat_minor": 2
}
