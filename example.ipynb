{
 "cells": [
  {
   "cell_type": "markdown",
   "metadata": {},
   "source": [
    "#### Installation"
   ]
  },
  {
   "cell_type": "code",
   "execution_count": 2,
   "metadata": {},
   "outputs": [],
   "source": [
    "%pip install -r requirements.txt\n",
    "%pip install -e ."
   ]
  },
  {
   "cell_type": "markdown",
   "metadata": {},
   "source": [
    "#### Example: Single-end"
   ]
  },
  {
   "cell_type": "code",
   "execution_count": 1,
   "metadata": {},
   "outputs": [
    {
     "name": "stderr",
     "output_type": "stream",
     "text": [
      "Sample_ID\tCounts\n",
      "sample_1\t1\n",
      "sample_2\t2\n",
      "Undetermined\t4\n",
      "Determined rate: 42.86%\n"
     ]
    }
   ],
   "source": [
    "from demux import SingleEndDemux \n",
    "\n",
    "demux = SingleEndDemux(\n",
    "    index_path = \"./example/single_end/index.txt\",\n",
    "    raw_path = \"./example/single_end/raw_R1.fastq.gz\",\n",
    "    save_dir = \"./example/single_end\",\n",
    "    allow_mismatch = 0,\n",
    "    threads=1,\n",
    "    read_direction = \"forward\"\n",
    ")"
   ]
  },
  {
   "cell_type": "markdown",
   "metadata": {},
   "source": [
    "#### Example: Paired-end"
   ]
  },
  {
   "cell_type": "code",
   "execution_count": 3,
   "metadata": {},
   "outputs": [
    {
     "name": "stderr",
     "output_type": "stream",
     "text": [
      "Sample_ID\tReads\tMatched_Reads\tMatched_Rate\n",
      "sample_1\t4\t3\t0.75\n",
      "sample_2\t4\t3\t0.75\n",
      "Total_Unmatched\tReads:2\tRate:0.25\n",
      "Total_Undetermined\tReads:0\tRate:0.00\n"
     ]
    }
   ],
   "source": [
    "from demux import PairedEndDemux\n",
    "\n",
    "demux = PairedEndDemux(\n",
    "    index_path = \"./example/paired_end/index.txt\",\n",
    "    for_raw_path = \"./example/paired_end/raw_R1.fastq.gz\",\n",
    "    rev_raw_path = \"./example/paired_end/raw_R2.fastq.gz\",\n",
    "    save_dir = \"./example/paired_end/\",\n",
    "    allow_mismatch = 0,\n",
    "    threads=1\n",
    ")"
   ]
  }
 ],
 "metadata": {
  "kernelspec": {
   "display_name": "base",
   "language": "python",
   "name": "python3"
  },
  "language_info": {
   "codemirror_mode": {
    "name": "ipython",
    "version": 3
   },
   "file_extension": ".py",
   "mimetype": "text/x-python",
   "name": "python",
   "nbconvert_exporter": "python",
   "pygments_lexer": "ipython3",
   "version": "3.12.3"
  }
 },
 "nbformat": 4,
 "nbformat_minor": 2
}
